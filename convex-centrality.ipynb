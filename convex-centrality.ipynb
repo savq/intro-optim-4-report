{
 "cells": [
  {
   "cell_type": "markdown",
   "metadata": {
    "id": "2NYkk7mTYR2p"
   },
   "source": [
    "# Medidas de Centralidad y Análisis de Propagación de Enfermedades Animales\n",
    "\n",
    "<!-- NOTA: Este titulo está muy largo, buscar uno más cortico -->\n",
    "\n",
    "Introducción a la Optimización — 2022-I\\\n",
    "Universidad Nacional de Colombia\n",
    "\n",
    "<!-- NOTA: Escribir correos -->\n",
    "[Sergio Alejandro Vargas](mailto:savargasqu@unal.edu.co)\\\n",
    "Santiago Jiménez \\\n",
    "Daniel Felipe Quiñones"
   ]
  },
  {
   "cell_type": "markdown",
   "metadata": {
    "id": "pQP2-hFDYaHo"
   },
   "source": [
    "## Introducción\n",
    "\n",
    "<!-- Problema -->\n",
    "La difusión de enfermedades animales es una amenaza latente a la seguridad alimentaria en Colombia.\n",
    "Por esto, estamos interesados en predecir cuales son los municipios con mayor probabilidad de ser centros de propagación de enfermedades.\n",
    "Esta información puede ser usada a futuro para ejecutar acciones sanitarias que limiten la propagación de enfermedades animales.\n",
    "\n",
    "<!-- ¿qué? -->\n",
    "Podemos estudiar la red de transporte de ganado en Colombia como un grafo,\n",
    "cuyos nodos son municipios y cuyos arcos son rutas de transporte.\n",
    "A partir de este grafo, definimos una medida de centralidad que nos permita estimar cuales son los municipios en los se puede dar una mayor propagación de enfermedades por su posición en la red de transporte, relativo a los otros municipios y las rutas entre ellos.\n",
    "\n",
    "<!--\n",
    "Para nuestro caso miraremos el ganado porcino y basado en el numero de individuos concentrados en diferentes municipios haremos un rankeo para ver cuales son los de mayor probabilidad de infeccion.\n",
    "\n",
    "NOTA: Esto no está bien. La clasificación no se hace sobre la cantidad de animales sino sobre la topologia del grafo.\n",
    "-->\n",
    "\n",
    "<!-- ¿como? -->\n",
    "Primero, preparamos datos recolectados por la Asociación de Porcicultores de Colombia (Porkcolombia); con estos datos construimos un grafo que representa la red de transporte de ganado porcino en el país; luego, calculamos diferentes medidas de centralidad sobre el grafo; por último, planteamos una nueva medida de centralidad construida a partir de la combinación convexa de la medidas ya conocidas, y la calculamos solucionando un problema de optimización.Esta nueva medida nos va a permitir, no solo sobreestimar <!-- ¿no sería _no sobreestimar_ --> alguna caracteristica del grafo sobre su topologia, sino tambien encontrar una medida mas optima entre las diferentes posibilidades.[1]"
   ]
  },
  {
   "cell_type": "code",
   "execution_count": 1,
   "metadata": {
    "id": "Y4R6Y1aEY_tE"
   },
   "outputs": [],
   "source": [
    "# Trabajaremos con los siguientes paquetes:\n",
    "\n",
    "from operator import concat\n",
    "import cvxpy as cp\n",
    "import networkx as nx\n",
    "import numpy as np\n",
    "import pandas as pd"
   ]
  },
  {
   "cell_type": "markdown",
   "metadata": {
    "id": "m2gydoiUYm8x"
   },
   "source": [
    "## Preparación de datos\n",
    "\n",
    "Actualmente, Los datos provistos por Porkcolombia no son públicos. Las siguientes funciones se evaluan sobre los datos originales y se preservan en el notebook por razones de reproducibilidad.\n",
    "\n",
    "Para leer y organizar los datos usamos un DataFrame de `pandas`.\n",
    "\n",
    "\n",
    "\n",
    "<!-- las fechas, el tipo y número de animales también pueden ser relevantes para un análisis más detallado. -->\n",
    "\n",
    "<!-- Edit comentario: preservaria las fechas para hacer analisis por ciertos periodos de tiempo. El tipo de animales por ahora no creo que sea muy relevante. Daniel -->\n"
   ]
  },
  {
   "cell_type": "markdown",
   "metadata": {
    "id": "qaaQtHFceFTO"
   },
   "source": [
    "Primero, vamos a tomar cada municipio (y no cada predio) como un solo nodo, por lo que no nos interesan las rutas que van de un predio a otro dentro del mismo municipio, ya que formarían bucles en el grafo. Eliminamos las entradas del dataframe en las que el origen y el destino son iguales."
   ]
  },
  {
   "cell_type": "code",
   "execution_count": 2,
   "metadata": {
    "id": "bs9XkgZwXohK"
   },
   "outputs": [],
   "source": [
    "def remove_loops(df):\n",
    "    return df.loc[df['MUNICIPIO_ORIGEN'] != df['MUNICIPIO_DESTINO']]"
   ]
  },
  {
   "cell_type": "markdown",
   "metadata": {
    "id": "Qy_5S501gXBn"
   },
   "source": [
    "Como los datos no son públicos, reemplazamos el nombre de cada municipio con una etiqueta numérica. Los arcos (rutas) no se modifican, luego el grafo obtenido es equivalente."
   ]
  },
  {
   "cell_type": "code",
   "execution_count": 3,
   "metadata": {
    "id": "AWe7TfnBaI1q"
   },
   "outputs": [],
   "source": [
    "\"Return new dataframe with anonymous labels for origin and destination\"\n",
    "def sanitize_labels(df):\n",
    "    # Some municipalities have the same name, so we also need to consider the department.\n",
    "    map_concat = lambda xs, ys: list(map(concat, xs, ys))\n",
    "\n",
    "    # Get the list of all origins and destinations.\n",
    "    origins = map_concat(df['DEPARTAMENTO_ORIGEN'], df['MUNICIPIO_ORIGEN'])\n",
    "    destinations = map_concat(df['DEPARTAMENTO_DESTINO'], df['MUNICIPIO_DESTINO'])\n",
    "\n",
    "    # Get sorted list of all unique places.\n",
    "    places = sorted(set(origins).union(set(destinations)))\n",
    "\n",
    "    # Label each name with its position in the sorted list  \n",
    "    label = lambda names: list(map(places.index, names))\n",
    "\n",
    "    return pd.DataFrame({\n",
    "        'origin': label(origins),\n",
    "        'destination': label(destinations),\n",
    "         # 'total': df['TOTAL_ANIMALES'], # only needed for weighted graphs (needs to be aggregated over a time interval)\n",
    "    })"
   ]
  },
  {
   "cell_type": "markdown",
   "metadata": {
    "id": "G1K52nobK-ZB"
   },
   "source": [
    "Solo tenemos que considerar cada ruta una vez para construir el grafo."
   ]
  },
  {
   "cell_type": "code",
   "execution_count": 4,
   "metadata": {
    "id": "pSBwS-Orx8tz"
   },
   "outputs": [],
   "source": [
    "def without_duplicates(df):\n",
    "    df.drop_duplicates(['origin', 'destination'], ignore_index=True, inplace=True)\n",
    "    return"
   ]
  },
  {
   "cell_type": "markdown",
   "metadata": {
    "id": "3iaAh9j6yFa0"
   },
   "source": [
    "Guardamos los datos etiquetados en un nuevo archivo. Este es el archivo de datos que se encuentra en el repositorio."
   ]
  },
  {
   "cell_type": "code",
   "execution_count": 5,
   "metadata": {
    "id": "VEKfPHXQLSZP"
   },
   "outputs": [],
   "source": [
    "def save_clean_data(input, output):\n",
    "    df = pd.read_csv(input)\n",
    "    df = remove_loops(df)\n",
    "    df = sanitize_labels(df)\n",
    "    without_duplicates(df)\n",
    "    df.to_csv(output, index=False)\n",
    "    return"
   ]
  },
  {
   "cell_type": "code",
   "execution_count": 7,
   "metadata": {
    "id": "czkGjGsAM-XJ"
   },
   "outputs": [],
   "source": [
    "# This cell only needs to run on the original dataset.\n",
    "PATH = './'\n",
    "save_clean_data(PATH + 'data.csv', PATH + 'clean_data.csv')"
   ]
  },
  {
   "cell_type": "markdown",
   "metadata": {
    "id": "oS64-_3-fKtK"
   },
   "source": [
    "Ahora, para construir el grafo es suficiente formar un arco por cada fila del dataset."
   ]
  },
  {
   "cell_type": "code",
   "execution_count": 8,
   "metadata": {
    "id": "dkgWIQEOPuR8"
   },
   "outputs": [],
   "source": [
    "_data = pd.read_csv(PATH + 'clean_data.csv')\n",
    "G = nx.from_pandas_edgelist(_data, source='origin', target='destination')"
   ]
  },
  {
   "cell_type": "markdown",
   "metadata": {
    "id": "Gm1CJBXEfTm7"
   },
   "source": [
    "## Medidas de Centralidad\n",
    "\n",
    "Intuitivamente, una medida de centralidad determina la importancia de un nodo dentro de un grafo. Aplicado a nuestro problema, buscamos una medida de centralidad que indique cuales son los municipios más importantes en la red de transporte de ganado. Esta importancia se puede cuantificar de varias maneras,\n",
    "pero en general, podremos suponer que si se presenta un brote de enfermedad en un municipio $m$, cortar las rutas de $m$ hacía los municipios importantes cercanos provería la mayor seguridad sanitaria.\n",
    "\n",
    "Formalmente, definiremos una medida de centralidad de la siguiente manera: Sea $G = (V, E)$ un grafo no-dirigido con vertices $V$ y arcos $E$. Una medida de centralidad es una función de valor real $c: V \\to ℝ$. Como existe un orden total para los reales, siempre podemos comparar la centralidad de dos vertices en un grafo.[2]\n",
    "\n",
    "Como las medidas de centralidad se calculan a partir de diferentes características de un nodo, la clasificación de un nodo no es la misma para todos las medidas de centralidad. Para dar una mejor estimación de la importancia de un nodo, proponemos usar una nueva medida de centralidad construida a partir de la combinación convexa de medidas de centralidad ya existentes.\n",
    "\n",
    "Ahora, para construir una nueva medida de centralidad, tenemos que poder operar las centralidades ya existentes sobre un mismo dominio, ya que en general, no son comparables y pueden variar drasticamente con el tamaño de un grafo. Para esto, normalizamos cada medida para ajustarla al intervalo $[0, 1]$ donde 1 es la mayor centralidad y 0 es la menor.\n"
   ]
  },
  {
   "cell_type": "markdown",
   "metadata": {
    "id": "QsOWnEEGiD03"
   },
   "source": [
    "Antes de definir las medidas de centralidad, definimos la _distancia geodésica_ de dos nodos como el número de vertices en el camino más corto entre los dos nodos. Si no hay un camino, la distancia es infinita.\n",
    "\n",
    "Las medidas de centralidad con las que trabajamermos son las siguientes:\n",
    "\n",
    "<!-- definición y normalización -->\n",
    "\n",
    "* Centralidad de grado (_degree centrality_): Esta medida de centralidad le asigna a cada nodo el número de vértices que inciden sobre él (el grado del nodo).[2]\n",
    "\n",
    "<!--\n",
    " Esta medida de centralidad, si bien es muy sencilla, en ocasiones puede dar mejores resultados que medidas más sofisticadas. Una desventaja obvia es que esta medida no tiene en cuenta la \"calidad\" de las conexiones entre nodos, así, dos nodos que tengan igual número de conexiones, pueden parecer igualmente relevantes bajo esta medida, sin serlo necesariamente.\n",
    "\n",
    "Esto sobra. Se puede poner en las conclusiones -->\n",
    "\n",
    "* Centralidad de cercanía (_closeness centrality_): Esta medida le asigna a cada nodo $n$ el reciproco de la sumas de la distancias del nodo $n$ a los otros nodos, es decir, si en promedio la distancia del nodo $n$ a otros nodos es corta, su centralidad es más alta.[3]\n",
    "$$C_{closeness}(x) = \\frac{1}{∑_{d(x,y)<∞}d(y,x)}$$\n",
    "  Como la distancia entre dos nodos es infinita si estos no están conectados,\n",
    "  no incluimos estas distancias en la suma.\n",
    "\n",
    "* Centralidad de intermediación (_betweenness centrality_): Esta medida le asigna a cada nodo la frecuencia con la que el nodo aparece en la geodésica de otros dos nodos cualesquiera en el grafo, es decir si $σ_{yz}$ es el número de caminos cortos de $y$ a $z$, y $σ_{yz}(x)$ es el número de caminos que pasan por $x$, la intermedación se define como:\n",
    "$$C_{centrality}(x) = ∑_{y,z \\neq x, σ_{yz}\\neq 0}\\frac{σ_{yz}(x)}{σ_{yz}}$$\n",
    "  Si muchos caminos cortos pasan por $x$, este es un punto con una alta centralidad de intermediación.[3]\n",
    "\n",
    "* Centralidad de vector propio (_eigenvector centrality_): Un grafo puede ser representado por una matriz de adyacencia $A$, donde la entrada $a_{ij}$ es igual a 1 si el nodo $n_i$ se conecta con el nodo $n_j$ e igual a 0 de lo contrario. La matriz es simétrica si el grafo no es dirigido. Para esta matriz existe un valor propio positivo $\\lambda$ cuya norma es mayor que la del resto de valores propios, y además existe un vector propio $x$ con componentes positivas asociado a $\\lambda$, es decir un vector que satisface $Ax = λx$ y $x ≽ 0$, entonces el valor de la i-ésima entrada de $x$ es el valor de centralidad del i-ésimo nodo. Esta medida le asignará un valor mayor a un nodo, si este nodo está conectado con otros nodos que tienen muchas conecciones.\n",
    "\n",
    "Calculamos cada medida de centralidad usando `networkx`. Estas funciones retornan un diccionario con entradas `node: value` ya normalizadas."
   ]
  },
  {
   "cell_type": "markdown",
   "metadata": {
    "id": "NFRQGBQqNcgW"
   },
   "source": [
    "# Interpretación epidemiológica"
   ]
  },
  {
   "cell_type": "markdown",
   "metadata": {
    "id": "y2JClgcWNgbi"
   },
   "source": [
    "Podemos darle a cada medida de centralidad una interpretación particular de acuerdo al problema que estamos tratando; esto es; la propogación de una cierta enfermedad a través de redes de transporte animal:\n",
    "\n",
    "Centralidad de grado: Esta medida de centralidad nos indica en cuáles nodos es más probable que surja una enfermedad infecciosa(por recibir una mayor cantidad de animales de otros nodos)\n",
    "\n",
    "Centrilidad de cercanía: Esta medida de centralidad nos indica desde qué nodos una supuesta enfermedad infecciosa se propagaría con mayor rapidez. Es decir, los nodos que puntúen alto en esta medida de centralidad serán aquellos desde los cuales se puede propagar una enfermedad muy infecciosa a prácticamente todos los nodos en poco tiempo\n",
    "\n",
    "Centralidad de intermedación: Esta medida de centralidad nos indica cuáles son los nodos que jugarían un papel crucial en la propagación de una supuesta epidemia, por estar muy bien conectados con los demás nodos y porque sirven de enlace entre nodos que de otra manera estarían desconectados\n",
    "\n",
    "Centralidad de vector propio: Esta medida de centralidad nos indica cuáles son los nodos a los que es más probable que llegue la infección después de un cierto tiempo, por estar dichos nodos conectados con nodos que juegan un papel importante en la red de transporte animal"
   ]
  },
  {
   "cell_type": "code",
   "execution_count": 9,
   "metadata": {
    "id": "qn_zMScUhgbm"
   },
   "outputs": [],
   "source": [
    "def get_centralities(graph):\n",
    "    return {\n",
    "        'betweenness': nx.betweenness_centrality(graph),\n",
    "        'closeness': nx.closeness_centrality(graph),\n",
    "        'degree': nx.degree_centrality(graph),\n",
    "        'eigenvector': nx.eigenvector_centrality(graph),\n",
    "    }"
   ]
  },
  {
   "cell_type": "markdown",
   "metadata": {
    "id": "Wm0Y55tRii2b"
   },
   "source": [
    "A partir de estas medidas podemos construir una matriz $A$ donde las filas corresponden al i-ésimo nodo, y las columnas corresponden a los valores de cada medida de centralidad. Así, para la entrada $a_{ij}$ tenemos el valor del nodo $i$ para la j-ésima medida."
   ]
  },
  {
   "cell_type": "code",
   "execution_count": 10,
   "metadata": {
    "id": "5MNmc71Razqe"
   },
   "outputs": [],
   "source": [
    "def build_matrix(graph):\n",
    "    cs = get_centralities(graph)\n",
    "    A = np.empty((\n",
    "        len(cs['betweenness']),\n",
    "        len(cs),\n",
    "    ))\n",
    "    i = 0\n",
    "    for k in ['betweenness', 'closeness', 'degree', 'eigenvector']:\n",
    "        for node in cs[k]:\n",
    "            A[node, i] = cs[k][node]\n",
    "        i += 1\n",
    "    return A"
   ]
  },
  {
   "cell_type": "code",
   "execution_count": 11,
   "metadata": {
    "id": "kb4ygRvO-Fnr"
   },
   "outputs": [],
   "source": [
    "A = build_matrix(G)"
   ]
  },
  {
   "cell_type": "markdown",
   "metadata": {
    "id": "tOYotJ5Zhg0g"
   },
   "source": [
    "## Minimización de combinaciones convexas\n",
    "\n",
    "<!--\n",
    "Sean $v_1, v_2,...v_n$ los valores de centralidad de los vértices del grafo para $n$ medidas de centralidad, donde la i-ésima entrada del vector $v_j$ nos indica el valor de centralidad sobre la medida $j$ del nodo $i$.\n",
    "-->\n",
    "\n",
    "Usando la matriz de valores de centralidad $A$,\n",
    "queremos encontrar un vector de valores de centralidad $w$ que considere las $n$ medidas. A cada columna de $A$ le asignamos un factor escalar $c_i$ para ajustar la contribución de la medida $i$ a $w$. Formalmente, queremos encontrar un vector $c = (c_1, c_2, …, c_n)$ que minimice\n",
    "\n",
    "$$\\min \\sum_{i=1}^{n} ||w - A_i||^2$$\n",
    "\n",
    "donde $w = \\sum_{i=1}^{n} c_iA_i$ y sujeto a:\n",
    "\n",
    "$$\\sum_{i=1}^{n} c_i = 1$$\n",
    "$$c_i\\geq 0$$"
   ]
  },
  {
   "cell_type": "markdown",
   "metadata": {
    "id": "8ZMgMX2ctj72"
   },
   "source": [
    "Este es un problema de optimización convexa, puesto que la expresión a minimizar es una suma de normas, cada una de las cuales es convexa. Además la condición de que cada $c_i$ sea no negativo también respeta dicha convexidad, y por último la condición de que $\\sum_i c_i = 1$ puede escribirse de la forma $1^Tc=1$, donde $c=(c_1,c_2,c_3,c_4)^T$. Claramente $1^Tc$ es una función afín. \n",
    "\n",
    "Por lo tanto este problema satisface las tres condiciones necesarias para que un problema de optimización sea convexo y podemos usar un _solver_ de CVXPY para resolverlo."
   ]
  },
  {
   "cell_type": "code",
   "execution_count": 12,
   "metadata": {
    "id": "MIXDDol589MU"
   },
   "outputs": [],
   "source": [
    "def convex_centrality(A):\n",
    "    c = cp.Variable(4)\n",
    "    objective = cp.Minimize(\n",
    "        cp.sum_squares(A @ c - A[:, 0]) +\n",
    "        cp.sum_squares(A @ c - A[:, 1]) +\n",
    "        cp.sum_squares(A @ c - A[:, 2]) +\n",
    "        cp.sum_squares(A @ c - A[:, 3])\n",
    "    )\n",
    "    constraints = [\n",
    "        c >= 0,\n",
    "        np.ones(4).T @ c == 1\n",
    "    ]\n",
    "    cp.Problem(objective, constraints).solve()\n",
    "    return c.value\n"
   ]
  },
  {
   "cell_type": "code",
   "execution_count": 13,
   "metadata": {
    "id": "d2YrtoIABBOE"
   },
   "outputs": [],
   "source": [
    "c = convex_centrality(A)"
   ]
  },
  {
   "cell_type": "code",
   "execution_count": 14,
   "metadata": {
    "id": "VBwt5fohDD32"
   },
   "outputs": [],
   "source": [
    "def get_rank(vec):\n",
    "    return list(map(lambda y: y[0], sorted(enumerate(vec), key=lambda x: x[1], reverse=True)))"
   ]
  },
  {
   "cell_type": "code",
   "execution_count": 15,
   "metadata": {
    "colab": {
     "base_uri": "https://localhost:8080/",
     "height": 235
    },
    "executionInfo": {
     "elapsed": 321,
     "status": "ok",
     "timestamp": 1656722729865,
     "user": {
      "displayName": "Daniel Quinones Ordonez",
      "userId": "14193726120150341292"
     },
     "user_tz": 300
    },
    "id": "I5P3XLA8DJP7",
    "outputId": "c18b76a2-1ed5-42b9-f6a4-7bec37e31e60"
   },
   "outputs": [
    {
     "data": {
      "text/html": [
       "<div>\n",
       "<style scoped>\n",
       "    .dataframe tbody tr th:only-of-type {\n",
       "        vertical-align: middle;\n",
       "    }\n",
       "\n",
       "    .dataframe tbody tr th {\n",
       "        vertical-align: top;\n",
       "    }\n",
       "\n",
       "    .dataframe thead th {\n",
       "        text-align: right;\n",
       "    }\n",
       "</style>\n",
       "<table border=\"1\" class=\"dataframe\">\n",
       "  <thead>\n",
       "    <tr style=\"text-align: right;\">\n",
       "      <th></th>\n",
       "      <th>0</th>\n",
       "      <th>1</th>\n",
       "      <th>2</th>\n",
       "      <th>3</th>\n",
       "      <th>4</th>\n",
       "      <th>5</th>\n",
       "      <th>6</th>\n",
       "      <th>7</th>\n",
       "      <th>8</th>\n",
       "      <th>9</th>\n",
       "      <th>...</th>\n",
       "      <th>904</th>\n",
       "      <th>905</th>\n",
       "      <th>906</th>\n",
       "      <th>907</th>\n",
       "      <th>908</th>\n",
       "      <th>909</th>\n",
       "      <th>910</th>\n",
       "      <th>911</th>\n",
       "      <th>912</th>\n",
       "      <th>913</th>\n",
       "    </tr>\n",
       "  </thead>\n",
       "  <tbody>\n",
       "    <tr>\n",
       "      <th>0</th>\n",
       "      <td>151</td>\n",
       "      <td>100</td>\n",
       "      <td>69</td>\n",
       "      <td>101</td>\n",
       "      <td>243</td>\n",
       "      <td>650</td>\n",
       "      <td>369</td>\n",
       "      <td>8</td>\n",
       "      <td>690</td>\n",
       "      <td>730</td>\n",
       "      <td>...</td>\n",
       "      <td>853</td>\n",
       "      <td>854</td>\n",
       "      <td>855</td>\n",
       "      <td>858</td>\n",
       "      <td>860</td>\n",
       "      <td>867</td>\n",
       "      <td>869</td>\n",
       "      <td>870</td>\n",
       "      <td>874</td>\n",
       "      <td>884</td>\n",
       "    </tr>\n",
       "    <tr>\n",
       "      <th>1</th>\n",
       "      <td>100</td>\n",
       "      <td>151</td>\n",
       "      <td>69</td>\n",
       "      <td>101</td>\n",
       "      <td>730</td>\n",
       "      <td>8</td>\n",
       "      <td>56</td>\n",
       "      <td>46</td>\n",
       "      <td>93</td>\n",
       "      <td>54</td>\n",
       "      <td>...</td>\n",
       "      <td>145</td>\n",
       "      <td>126</td>\n",
       "      <td>581</td>\n",
       "      <td>577</td>\n",
       "      <td>546</td>\n",
       "      <td>520</td>\n",
       "      <td>165</td>\n",
       "      <td>232</td>\n",
       "      <td>0</td>\n",
       "      <td>1</td>\n",
       "    </tr>\n",
       "    <tr>\n",
       "      <th>2</th>\n",
       "      <td>151</td>\n",
       "      <td>100</td>\n",
       "      <td>101</td>\n",
       "      <td>69</td>\n",
       "      <td>8</td>\n",
       "      <td>243</td>\n",
       "      <td>730</td>\n",
       "      <td>650</td>\n",
       "      <td>56</td>\n",
       "      <td>93</td>\n",
       "      <td>...</td>\n",
       "      <td>802</td>\n",
       "      <td>808</td>\n",
       "      <td>812</td>\n",
       "      <td>836</td>\n",
       "      <td>853</td>\n",
       "      <td>860</td>\n",
       "      <td>869</td>\n",
       "      <td>870</td>\n",
       "      <td>874</td>\n",
       "      <td>884</td>\n",
       "    </tr>\n",
       "    <tr>\n",
       "      <th>3</th>\n",
       "      <td>101</td>\n",
       "      <td>100</td>\n",
       "      <td>69</td>\n",
       "      <td>8</td>\n",
       "      <td>151</td>\n",
       "      <td>730</td>\n",
       "      <td>56</td>\n",
       "      <td>93</td>\n",
       "      <td>16</td>\n",
       "      <td>46</td>\n",
       "      <td>...</td>\n",
       "      <td>561</td>\n",
       "      <td>581</td>\n",
       "      <td>546</td>\n",
       "      <td>126</td>\n",
       "      <td>577</td>\n",
       "      <td>520</td>\n",
       "      <td>165</td>\n",
       "      <td>232</td>\n",
       "      <td>0</td>\n",
       "      <td>1</td>\n",
       "    </tr>\n",
       "    <tr>\n",
       "      <th>4</th>\n",
       "      <td>151</td>\n",
       "      <td>100</td>\n",
       "      <td>101</td>\n",
       "      <td>69</td>\n",
       "      <td>8</td>\n",
       "      <td>730</td>\n",
       "      <td>56</td>\n",
       "      <td>243</td>\n",
       "      <td>93</td>\n",
       "      <td>46</td>\n",
       "      <td>...</td>\n",
       "      <td>145</td>\n",
       "      <td>126</td>\n",
       "      <td>581</td>\n",
       "      <td>577</td>\n",
       "      <td>546</td>\n",
       "      <td>520</td>\n",
       "      <td>165</td>\n",
       "      <td>232</td>\n",
       "      <td>0</td>\n",
       "      <td>1</td>\n",
       "    </tr>\n",
       "  </tbody>\n",
       "</table>\n",
       "<p>5 rows × 914 columns</p>\n",
       "</div>"
      ],
      "text/plain": [
       "   0    1    2    3    4    5    6    7    8    9    ...  904  905  906  907  \\\n",
       "0  151  100   69  101  243  650  369    8  690  730  ...  853  854  855  858   \n",
       "1  100  151   69  101  730    8   56   46   93   54  ...  145  126  581  577   \n",
       "2  151  100  101   69    8  243  730  650   56   93  ...  802  808  812  836   \n",
       "3  101  100   69    8  151  730   56   93   16   46  ...  561  581  546  126   \n",
       "4  151  100  101   69    8  730   56  243   93   46  ...  145  126  581  577   \n",
       "\n",
       "   908  909  910  911  912  913  \n",
       "0  860  867  869  870  874  884  \n",
       "1  546  520  165  232    0    1  \n",
       "2  853  860  869  870  874  884  \n",
       "3  577  520  165  232    0    1  \n",
       "4  546  520  165  232    0    1  \n",
       "\n",
       "[5 rows x 914 columns]"
      ]
     },
     "execution_count": 15,
     "metadata": {},
     "output_type": "execute_result"
    }
   ],
   "source": [
    "pd.DataFrame([\n",
    "    get_rank(A[:, 0]),\n",
    "    get_rank(A[:, 1]),\n",
    "    get_rank(A[:, 2]),\n",
    "    get_rank(A[:, 3]),\n",
    "    get_rank(A @ c)\n",
    "])"
   ]
  },
  {
   "cell_type": "markdown",
   "metadata": {
    "id": "gcE3RKYpgVXT"
   },
   "source": [
    "## Conclusiones\n",
    "\n",
    "1. No existe una única manera de determininar el centro de un grafo. Existen muchas medidas de centralidad diferentes y cada una de ellas nos ayuda a comprender una parte de las conexiones de los nodos de un grafo. Combinando estas medidas entre sí, obtenemos mucha más información adicional a la obtenida sólo basándondonos en una única medida de centralidad.\n",
    "2. En relación a nuestro problema original de analizar la propagación de una infección animal, pudimos ver cómo cada una de las diferentes medidas de centralidad por sí sola es importante para analizar las diferentes fases de una epidemia, ya sea su posible origen, su propagación inicial, o su posible propagación final a todos los nodos de la red.\n",
    "3. En los rankings obtenidos vemos que hay similaridad en los nodos y la variacion de la posicion no es muy alta. Esto debido a que cada medida resalta una caracteristica diferente del nodo, y, sin embargo, al hacer la combinacion convexa mas optima, esta preserva y encuentra el ranking con mayor relevancia general sobre la red. Asi por ejemplo vemos que los nodos 100, 101, 151, 69 estan variando en el top 3 de las diferentes medidas de centralidad, y en la solucion del problema de optimizacion esta los ubica en el top 4 del ranking (151, 100, 101, 69).\n",
    "4. La teoría de optimización vista en clase juega un papel fundamental a la hora de plantear correctamente el problema de encontrar el mejor ranking que tome en cuenta todas las medidas de centralidad, pues proporciona un marco natural para estudiar las funciones a optimizar y nos permite estar seguros de la existencia de una solución óptima. Además, también se puede aplicar para resolver una variedad de problemas en teoría de grafos que impliquen optimizar una cierta variable, problemas que pueden ser planteados desde una variedad de perspectivas muy distintas a las que se trataron en este trabajo."
   ]
  },
  {
   "cell_type": "markdown",
   "metadata": {
    "id": "e3ZNhkifTpHR"
   },
   "source": [
    "**Referencias**\n",
    "\n",
    "[1]: Keng, Y., Kwa, K., McClain, C. (2021). _Convex combination of centrality measures._ The Journal of Mathematical Sociology.\n",
    "\n",
    "[2]: Brandes, U., Erlebach T. (2005) _Network Analysis. Methodological Foundations._\n",
    "\n",
    "[3]: Boldi, P., Vigna, S. (2013) _Axioms for centrality._ Internet Mathematics."
   ]
  }
 ],
 "metadata": {
  "colab": {
   "collapsed_sections": [],
   "name": "project-diff-network.ipynb",
   "provenance": []
  },
  "kernelspec": {
   "display_name": "Python 3 (ipykernel)",
   "language": "python",
   "name": "python3"
  },
  "language_info": {
   "codemirror_mode": {
    "name": "ipython",
    "version": 3
   },
   "file_extension": ".py",
   "mimetype": "text/x-python",
   "name": "python",
   "nbconvert_exporter": "python",
   "pygments_lexer": "ipython3",
   "version": "3.9.13"
  }
 },
 "nbformat": 4,
 "nbformat_minor": 1
}
